{
  "nbformat": 4,
  "nbformat_minor": 0,
  "metadata": {
    "colab": {
      "provenance": []
    },
    "kernelspec": {
      "name": "python3",
      "display_name": "Python 3"
    },
    "language_info": {
      "name": "python"
    }
  },
  "cells": [
    {
      "cell_type": "code",
      "execution_count": null,
      "metadata": {
        "id": "h2vUWjgmDj17"
      },
      "outputs": [],
      "source": [
        "import pandas as pd\n",
        "import seaborn as sns\n",
        "import matplotlib.pyplot as plt\n",
        "from sklearn.naive_bayes import GaussianNB"
      ]
    },
    {
      "cell_type": "code",
      "source": [],
      "metadata": {
        "id": "dCWzRaP8TYDG"
      },
      "execution_count": null,
      "outputs": []
    },
    {
      "cell_type": "code",
      "source": [
        "df = pd.read_csv(\"SPO2 HeartRate Dataset - Sheet1.csv\")"
      ],
      "metadata": {
        "id": "3DH8ksqVDzJd"
      },
      "execution_count": null,
      "outputs": []
    },
    {
      "cell_type": "code",
      "source": [
        "df\n"
      ],
      "metadata": {
        "colab": {
          "base_uri": "https://localhost:8080/",
          "height": 423
        },
        "id": "3eLM_bGsEEgi",
        "outputId": "ac0bc3f7-dc02-44c4-feb4-d2087d1349f7"
      },
      "execution_count": null,
      "outputs": [
        {
          "output_type": "execute_result",
          "data": {
            "text/plain": [
              "    Subject          Session Age Group     Day  HearRate  SpO2  Temperature\n",
              "0        S1    Morning(Rest)         A   Day 1        79    98          103\n",
              "1        S1    Morning(Rest)         A   Day 2        76    97           98\n",
              "2        S1    Morning(Rest)         A   Day 3        74    97           90\n",
              "3        S1    Morning(Rest)         A   Day 4        75    98          100\n",
              "4        S1    Morning(Rest)         A   Day 5        72    96           92\n",
              "..      ...              ...       ...     ...       ...   ...          ...\n",
              "895     S10  Evening(Normal)         C   Day 6        81    98          110\n",
              "896     S10  Evening(Normal)         C   Day 7        79    96          108\n",
              "897     S10  Evening(Normal)         C   Day 8        86    96           90\n",
              "898     S10  Evening(Normal)         C   Day 9        91    81           95\n",
              "899     S10  Evening(Normal)         C  Day 10        87    96           97\n",
              "\n",
              "[900 rows x 7 columns]"
            ],
            "text/html": [
              "\n",
              "\n",
              "  <div id=\"df-3d35db99-48d1-4163-85bc-89a6b49f9e9a\">\n",
              "    <div class=\"colab-df-container\">\n",
              "      <div>\n",
              "<style scoped>\n",
              "    .dataframe tbody tr th:only-of-type {\n",
              "        vertical-align: middle;\n",
              "    }\n",
              "\n",
              "    .dataframe tbody tr th {\n",
              "        vertical-align: top;\n",
              "    }\n",
              "\n",
              "    .dataframe thead th {\n",
              "        text-align: right;\n",
              "    }\n",
              "</style>\n",
              "<table border=\"1\" class=\"dataframe\">\n",
              "  <thead>\n",
              "    <tr style=\"text-align: right;\">\n",
              "      <th></th>\n",
              "      <th>Subject</th>\n",
              "      <th>Session</th>\n",
              "      <th>Age Group</th>\n",
              "      <th>Day</th>\n",
              "      <th>HearRate</th>\n",
              "      <th>SpO2</th>\n",
              "      <th>Temperature</th>\n",
              "    </tr>\n",
              "  </thead>\n",
              "  <tbody>\n",
              "    <tr>\n",
              "      <th>0</th>\n",
              "      <td>S1</td>\n",
              "      <td>Morning(Rest)</td>\n",
              "      <td>A</td>\n",
              "      <td>Day 1</td>\n",
              "      <td>79</td>\n",
              "      <td>98</td>\n",
              "      <td>103</td>\n",
              "    </tr>\n",
              "    <tr>\n",
              "      <th>1</th>\n",
              "      <td>S1</td>\n",
              "      <td>Morning(Rest)</td>\n",
              "      <td>A</td>\n",
              "      <td>Day 2</td>\n",
              "      <td>76</td>\n",
              "      <td>97</td>\n",
              "      <td>98</td>\n",
              "    </tr>\n",
              "    <tr>\n",
              "      <th>2</th>\n",
              "      <td>S1</td>\n",
              "      <td>Morning(Rest)</td>\n",
              "      <td>A</td>\n",
              "      <td>Day 3</td>\n",
              "      <td>74</td>\n",
              "      <td>97</td>\n",
              "      <td>90</td>\n",
              "    </tr>\n",
              "    <tr>\n",
              "      <th>3</th>\n",
              "      <td>S1</td>\n",
              "      <td>Morning(Rest)</td>\n",
              "      <td>A</td>\n",
              "      <td>Day 4</td>\n",
              "      <td>75</td>\n",
              "      <td>98</td>\n",
              "      <td>100</td>\n",
              "    </tr>\n",
              "    <tr>\n",
              "      <th>4</th>\n",
              "      <td>S1</td>\n",
              "      <td>Morning(Rest)</td>\n",
              "      <td>A</td>\n",
              "      <td>Day 5</td>\n",
              "      <td>72</td>\n",
              "      <td>96</td>\n",
              "      <td>92</td>\n",
              "    </tr>\n",
              "    <tr>\n",
              "      <th>...</th>\n",
              "      <td>...</td>\n",
              "      <td>...</td>\n",
              "      <td>...</td>\n",
              "      <td>...</td>\n",
              "      <td>...</td>\n",
              "      <td>...</td>\n",
              "      <td>...</td>\n",
              "    </tr>\n",
              "    <tr>\n",
              "      <th>895</th>\n",
              "      <td>S10</td>\n",
              "      <td>Evening(Normal)</td>\n",
              "      <td>C</td>\n",
              "      <td>Day 6</td>\n",
              "      <td>81</td>\n",
              "      <td>98</td>\n",
              "      <td>110</td>\n",
              "    </tr>\n",
              "    <tr>\n",
              "      <th>896</th>\n",
              "      <td>S10</td>\n",
              "      <td>Evening(Normal)</td>\n",
              "      <td>C</td>\n",
              "      <td>Day 7</td>\n",
              "      <td>79</td>\n",
              "      <td>96</td>\n",
              "      <td>108</td>\n",
              "    </tr>\n",
              "    <tr>\n",
              "      <th>897</th>\n",
              "      <td>S10</td>\n",
              "      <td>Evening(Normal)</td>\n",
              "      <td>C</td>\n",
              "      <td>Day 8</td>\n",
              "      <td>86</td>\n",
              "      <td>96</td>\n",
              "      <td>90</td>\n",
              "    </tr>\n",
              "    <tr>\n",
              "      <th>898</th>\n",
              "      <td>S10</td>\n",
              "      <td>Evening(Normal)</td>\n",
              "      <td>C</td>\n",
              "      <td>Day 9</td>\n",
              "      <td>91</td>\n",
              "      <td>81</td>\n",
              "      <td>95</td>\n",
              "    </tr>\n",
              "    <tr>\n",
              "      <th>899</th>\n",
              "      <td>S10</td>\n",
              "      <td>Evening(Normal)</td>\n",
              "      <td>C</td>\n",
              "      <td>Day 10</td>\n",
              "      <td>87</td>\n",
              "      <td>96</td>\n",
              "      <td>97</td>\n",
              "    </tr>\n",
              "  </tbody>\n",
              "</table>\n",
              "<p>900 rows × 7 columns</p>\n",
              "</div>\n",
              "      <button class=\"colab-df-convert\" onclick=\"convertToInteractive('df-3d35db99-48d1-4163-85bc-89a6b49f9e9a')\"\n",
              "              title=\"Convert this dataframe to an interactive table.\"\n",
              "              style=\"display:none;\">\n",
              "\n",
              "  <svg xmlns=\"http://www.w3.org/2000/svg\" height=\"24px\"viewBox=\"0 0 24 24\"\n",
              "       width=\"24px\">\n",
              "    <path d=\"M0 0h24v24H0V0z\" fill=\"none\"/>\n",
              "    <path d=\"M18.56 5.44l.94 2.06.94-2.06 2.06-.94-2.06-.94-.94-2.06-.94 2.06-2.06.94zm-11 1L8.5 8.5l.94-2.06 2.06-.94-2.06-.94L8.5 2.5l-.94 2.06-2.06.94zm10 10l.94 2.06.94-2.06 2.06-.94-2.06-.94-.94-2.06-.94 2.06-2.06.94z\"/><path d=\"M17.41 7.96l-1.37-1.37c-.4-.4-.92-.59-1.43-.59-.52 0-1.04.2-1.43.59L10.3 9.45l-7.72 7.72c-.78.78-.78 2.05 0 2.83L4 21.41c.39.39.9.59 1.41.59.51 0 1.02-.2 1.41-.59l7.78-7.78 2.81-2.81c.8-.78.8-2.07 0-2.86zM5.41 20L4 18.59l7.72-7.72 1.47 1.35L5.41 20z\"/>\n",
              "  </svg>\n",
              "      </button>\n",
              "\n",
              "\n",
              "\n",
              "    <div id=\"df-3e3540ac-176f-42fc-8ad7-79b84f559d8f\">\n",
              "      <button class=\"colab-df-quickchart\" onclick=\"quickchart('df-3e3540ac-176f-42fc-8ad7-79b84f559d8f')\"\n",
              "              title=\"Suggest charts.\"\n",
              "              style=\"display:none;\">\n",
              "\n",
              "<svg xmlns=\"http://www.w3.org/2000/svg\" height=\"24px\"viewBox=\"0 0 24 24\"\n",
              "     width=\"24px\">\n",
              "    <g>\n",
              "        <path d=\"M19 3H5c-1.1 0-2 .9-2 2v14c0 1.1.9 2 2 2h14c1.1 0 2-.9 2-2V5c0-1.1-.9-2-2-2zM9 17H7v-7h2v7zm4 0h-2V7h2v10zm4 0h-2v-4h2v4z\"/>\n",
              "    </g>\n",
              "</svg>\n",
              "      </button>\n",
              "    </div>\n",
              "\n",
              "<style>\n",
              "  .colab-df-quickchart {\n",
              "    background-color: #E8F0FE;\n",
              "    border: none;\n",
              "    border-radius: 50%;\n",
              "    cursor: pointer;\n",
              "    display: none;\n",
              "    fill: #1967D2;\n",
              "    height: 32px;\n",
              "    padding: 0 0 0 0;\n",
              "    width: 32px;\n",
              "  }\n",
              "\n",
              "  .colab-df-quickchart:hover {\n",
              "    background-color: #E2EBFA;\n",
              "    box-shadow: 0px 1px 2px rgba(60, 64, 67, 0.3), 0px 1px 3px 1px rgba(60, 64, 67, 0.15);\n",
              "    fill: #174EA6;\n",
              "  }\n",
              "\n",
              "  [theme=dark] .colab-df-quickchart {\n",
              "    background-color: #3B4455;\n",
              "    fill: #D2E3FC;\n",
              "  }\n",
              "\n",
              "  [theme=dark] .colab-df-quickchart:hover {\n",
              "    background-color: #434B5C;\n",
              "    box-shadow: 0px 1px 3px 1px rgba(0, 0, 0, 0.15);\n",
              "    filter: drop-shadow(0px 1px 2px rgba(0, 0, 0, 0.3));\n",
              "    fill: #FFFFFF;\n",
              "  }\n",
              "</style>\n",
              "\n",
              "    <script>\n",
              "      async function quickchart(key) {\n",
              "        const containerElement = document.querySelector('#' + key);\n",
              "        const charts = await google.colab.kernel.invokeFunction(\n",
              "            'suggestCharts', [key], {});\n",
              "      }\n",
              "    </script>\n",
              "\n",
              "      <script>\n",
              "\n",
              "function displayQuickchartButton(domScope) {\n",
              "  let quickchartButtonEl =\n",
              "    domScope.querySelector('#df-3e3540ac-176f-42fc-8ad7-79b84f559d8f button.colab-df-quickchart');\n",
              "  quickchartButtonEl.style.display =\n",
              "    google.colab.kernel.accessAllowed ? 'block' : 'none';\n",
              "}\n",
              "\n",
              "        displayQuickchartButton(document);\n",
              "      </script>\n",
              "      <style>\n",
              "    .colab-df-container {\n",
              "      display:flex;\n",
              "      flex-wrap:wrap;\n",
              "      gap: 12px;\n",
              "    }\n",
              "\n",
              "    .colab-df-convert {\n",
              "      background-color: #E8F0FE;\n",
              "      border: none;\n",
              "      border-radius: 50%;\n",
              "      cursor: pointer;\n",
              "      display: none;\n",
              "      fill: #1967D2;\n",
              "      height: 32px;\n",
              "      padding: 0 0 0 0;\n",
              "      width: 32px;\n",
              "    }\n",
              "\n",
              "    .colab-df-convert:hover {\n",
              "      background-color: #E2EBFA;\n",
              "      box-shadow: 0px 1px 2px rgba(60, 64, 67, 0.3), 0px 1px 3px 1px rgba(60, 64, 67, 0.15);\n",
              "      fill: #174EA6;\n",
              "    }\n",
              "\n",
              "    [theme=dark] .colab-df-convert {\n",
              "      background-color: #3B4455;\n",
              "      fill: #D2E3FC;\n",
              "    }\n",
              "\n",
              "    [theme=dark] .colab-df-convert:hover {\n",
              "      background-color: #434B5C;\n",
              "      box-shadow: 0px 1px 3px 1px rgba(0, 0, 0, 0.15);\n",
              "      filter: drop-shadow(0px 1px 2px rgba(0, 0, 0, 0.3));\n",
              "      fill: #FFFFFF;\n",
              "    }\n",
              "  </style>\n",
              "\n",
              "      <script>\n",
              "        const buttonEl =\n",
              "          document.querySelector('#df-3d35db99-48d1-4163-85bc-89a6b49f9e9a button.colab-df-convert');\n",
              "        buttonEl.style.display =\n",
              "          google.colab.kernel.accessAllowed ? 'block' : 'none';\n",
              "\n",
              "        async function convertToInteractive(key) {\n",
              "          const element = document.querySelector('#df-3d35db99-48d1-4163-85bc-89a6b49f9e9a');\n",
              "          const dataTable =\n",
              "            await google.colab.kernel.invokeFunction('convertToInteractive',\n",
              "                                                     [key], {});\n",
              "          if (!dataTable) return;\n",
              "\n",
              "          const docLinkHtml = 'Like what you see? Visit the ' +\n",
              "            '<a target=\"_blank\" href=https://colab.research.google.com/notebooks/data_table.ipynb>data table notebook</a>'\n",
              "            + ' to learn more about interactive tables.';\n",
              "          element.innerHTML = '';\n",
              "          dataTable['output_type'] = 'display_data';\n",
              "          await google.colab.output.renderOutput(dataTable, element);\n",
              "          const docLink = document.createElement('div');\n",
              "          docLink.innerHTML = docLinkHtml;\n",
              "          element.appendChild(docLink);\n",
              "        }\n",
              "      </script>\n",
              "    </div>\n",
              "  </div>\n"
            ]
          },
          "metadata": {},
          "execution_count": 6
        }
      ]
    },
    {
      "cell_type": "code",
      "source": [
        "df['Subject'].unique()\n"
      ],
      "metadata": {
        "colab": {
          "base_uri": "https://localhost:8080/"
        },
        "id": "v60T66YuEQAp",
        "outputId": "95626bba-affd-4832-a2df-6d51faebf43d"
      },
      "execution_count": null,
      "outputs": [
        {
          "output_type": "execute_result",
          "data": {
            "text/plain": [
              "array(['S1', 'S2', 'S3', 'S4', 'S5', 'S6', 'S7', 'S8', 'S9', 'S10'],\n",
              "      dtype=object)"
            ]
          },
          "metadata": {},
          "execution_count": 7
        }
      ]
    },
    {
      "cell_type": "code",
      "source": [
        "for i in range(len(df['Subject'])):\n",
        "\n",
        "  if(df['Subject'][i] == 'S1'):\n",
        "    df['Subject'][i] = 0\n",
        "  if(df['Subject'][i] == 'S2'):\n",
        "    df['Subject'][i] = 1\n",
        "  if(df['Subject'][i] == 'S3'):\n",
        "    df['Subject'][i] = 2\n",
        "  if(df['Subject'][i] == 'S4'):\n",
        "    df['Subject'][i] = 3\n",
        "  if(df['Subject'][i] == 'S5'):\n",
        "    df['Subject'][i] = 4\n",
        "  if(df['Subject'][i] == 'S6'):\n",
        "     df['Subject'][i] = 5\n",
        "  if(df['Subject'][i] == 'S7'):\n",
        "     df['Subject'][i] = 6\n",
        "  if(df['Subject'][i] == 'S8'):\n",
        "     df['Subject'][i] = 7\n",
        "  if(df['Subject'][i] == 'S9'):\n",
        "     df['Subject'][i] = 8\n",
        "  if(df['Subject'][i] == 'S10'):\n",
        "     df['Subject'][i] = 9"
      ],
      "metadata": {
        "colab": {
          "base_uri": "https://localhost:8080/"
        },
        "id": "JdSLRXFcFUl7",
        "outputId": "de3060c7-69f2-4f3b-a1f5-e32d2566b684"
      },
      "execution_count": null,
      "outputs": [
        {
          "output_type": "stream",
          "name": "stderr",
          "text": [
            "<ipython-input-8-f799c3993485>:4: SettingWithCopyWarning: \n",
            "A value is trying to be set on a copy of a slice from a DataFrame\n",
            "\n",
            "See the caveats in the documentation: https://pandas.pydata.org/pandas-docs/stable/user_guide/indexing.html#returning-a-view-versus-a-copy\n",
            "  df['Subject'][i] = 0\n",
            "<ipython-input-8-f799c3993485>:6: SettingWithCopyWarning: \n",
            "A value is trying to be set on a copy of a slice from a DataFrame\n",
            "\n",
            "See the caveats in the documentation: https://pandas.pydata.org/pandas-docs/stable/user_guide/indexing.html#returning-a-view-versus-a-copy\n",
            "  df['Subject'][i] = 1\n",
            "<ipython-input-8-f799c3993485>:8: SettingWithCopyWarning: \n",
            "A value is trying to be set on a copy of a slice from a DataFrame\n",
            "\n",
            "See the caveats in the documentation: https://pandas.pydata.org/pandas-docs/stable/user_guide/indexing.html#returning-a-view-versus-a-copy\n",
            "  df['Subject'][i] = 2\n",
            "<ipython-input-8-f799c3993485>:10: SettingWithCopyWarning: \n",
            "A value is trying to be set on a copy of a slice from a DataFrame\n",
            "\n",
            "See the caveats in the documentation: https://pandas.pydata.org/pandas-docs/stable/user_guide/indexing.html#returning-a-view-versus-a-copy\n",
            "  df['Subject'][i] = 3\n",
            "<ipython-input-8-f799c3993485>:12: SettingWithCopyWarning: \n",
            "A value is trying to be set on a copy of a slice from a DataFrame\n",
            "\n",
            "See the caveats in the documentation: https://pandas.pydata.org/pandas-docs/stable/user_guide/indexing.html#returning-a-view-versus-a-copy\n",
            "  df['Subject'][i] = 4\n",
            "<ipython-input-8-f799c3993485>:14: SettingWithCopyWarning: \n",
            "A value is trying to be set on a copy of a slice from a DataFrame\n",
            "\n",
            "See the caveats in the documentation: https://pandas.pydata.org/pandas-docs/stable/user_guide/indexing.html#returning-a-view-versus-a-copy\n",
            "  df['Subject'][i] = 5\n",
            "<ipython-input-8-f799c3993485>:16: SettingWithCopyWarning: \n",
            "A value is trying to be set on a copy of a slice from a DataFrame\n",
            "\n",
            "See the caveats in the documentation: https://pandas.pydata.org/pandas-docs/stable/user_guide/indexing.html#returning-a-view-versus-a-copy\n",
            "  df['Subject'][i] = 6\n",
            "<ipython-input-8-f799c3993485>:18: SettingWithCopyWarning: \n",
            "A value is trying to be set on a copy of a slice from a DataFrame\n",
            "\n",
            "See the caveats in the documentation: https://pandas.pydata.org/pandas-docs/stable/user_guide/indexing.html#returning-a-view-versus-a-copy\n",
            "  df['Subject'][i] = 7\n",
            "<ipython-input-8-f799c3993485>:20: SettingWithCopyWarning: \n",
            "A value is trying to be set on a copy of a slice from a DataFrame\n",
            "\n",
            "See the caveats in the documentation: https://pandas.pydata.org/pandas-docs/stable/user_guide/indexing.html#returning-a-view-versus-a-copy\n",
            "  df['Subject'][i] = 8\n",
            "<ipython-input-8-f799c3993485>:22: SettingWithCopyWarning: \n",
            "A value is trying to be set on a copy of a slice from a DataFrame\n",
            "\n",
            "See the caveats in the documentation: https://pandas.pydata.org/pandas-docs/stable/user_guide/indexing.html#returning-a-view-versus-a-copy\n",
            "  df['Subject'][i] = 9\n"
          ]
        }
      ]
    },
    {
      "cell_type": "code",
      "source": [
        "df['Session'].unique()"
      ],
      "metadata": {
        "colab": {
          "base_uri": "https://localhost:8080/"
        },
        "id": "Q3PC4LB1GIFJ",
        "outputId": "3e85d6a0-7019-4b9f-808f-c4803af3f4b7"
      },
      "execution_count": null,
      "outputs": [
        {
          "output_type": "execute_result",
          "data": {
            "text/plain": [
              "array(['Morning(Rest)', 'Afternoon(Active)', 'Evening(Normal)'],\n",
              "      dtype=object)"
            ]
          },
          "metadata": {},
          "execution_count": 9
        }
      ]
    },
    {
      "cell_type": "code",
      "source": [
        "for i in range(len(df['Session'])):\n",
        "  if(df['Session'][i] == 'Morning(Rest)'):\n",
        "     df['Session'][i] = 0\n",
        "  if(df['Session'][i] == 'Afternoon(Active)'):\n",
        "     df['Session'][i] = 1\n",
        "  if(df['Session'][i] == 'Evening(Normal)'):\n",
        "     df['Session'][i] = 2"
      ],
      "metadata": {
        "colab": {
          "base_uri": "https://localhost:8080/"
        },
        "id": "KVXgfz0uGOtI",
        "outputId": "9ffb594c-4679-41d2-cd87-665781c16e3b"
      },
      "execution_count": null,
      "outputs": [
        {
          "output_type": "stream",
          "name": "stderr",
          "text": [
            "<ipython-input-10-af18b4d60950>:3: SettingWithCopyWarning: \n",
            "A value is trying to be set on a copy of a slice from a DataFrame\n",
            "\n",
            "See the caveats in the documentation: https://pandas.pydata.org/pandas-docs/stable/user_guide/indexing.html#returning-a-view-versus-a-copy\n",
            "  df['Session'][i] = 0\n",
            "<ipython-input-10-af18b4d60950>:5: SettingWithCopyWarning: \n",
            "A value is trying to be set on a copy of a slice from a DataFrame\n",
            "\n",
            "See the caveats in the documentation: https://pandas.pydata.org/pandas-docs/stable/user_guide/indexing.html#returning-a-view-versus-a-copy\n",
            "  df['Session'][i] = 1\n",
            "<ipython-input-10-af18b4d60950>:7: SettingWithCopyWarning: \n",
            "A value is trying to be set on a copy of a slice from a DataFrame\n",
            "\n",
            "See the caveats in the documentation: https://pandas.pydata.org/pandas-docs/stable/user_guide/indexing.html#returning-a-view-versus-a-copy\n",
            "  df['Session'][i] = 2\n"
          ]
        }
      ]
    },
    {
      "cell_type": "code",
      "source": [
        "df['Age Group'].unique()"
      ],
      "metadata": {
        "colab": {
          "base_uri": "https://localhost:8080/"
        },
        "id": "-tmd-va_GZVT",
        "outputId": "5c140dc4-1f05-4a19-aa2b-b5464ba9bcd6"
      },
      "execution_count": null,
      "outputs": [
        {
          "output_type": "execute_result",
          "data": {
            "text/plain": [
              "array(['A', 'B', 'C'], dtype=object)"
            ]
          },
          "metadata": {},
          "execution_count": 11
        }
      ]
    },
    {
      "cell_type": "code",
      "source": [
        "for i in range(len(df['Age Group'])):\n",
        "  if(df['Age Group'][i] == 'A'):\n",
        "    df['Age Group'][i] = 0\n",
        "  if(df['Age Group'][i] == 'B'):\n",
        "    df['Age Group'][i] = 1\n",
        "  if(df['Age Group'][i] == 'C'):\n",
        "    df['Age Group'][i] = 2"
      ],
      "metadata": {
        "colab": {
          "base_uri": "https://localhost:8080/"
        },
        "id": "Vxc1HQbRGdxh",
        "outputId": "b86ff408-119b-40be-bbe9-589dadf10968"
      },
      "execution_count": null,
      "outputs": [
        {
          "output_type": "stream",
          "name": "stderr",
          "text": [
            "<ipython-input-12-04cdece9ffc1>:3: SettingWithCopyWarning: \n",
            "A value is trying to be set on a copy of a slice from a DataFrame\n",
            "\n",
            "See the caveats in the documentation: https://pandas.pydata.org/pandas-docs/stable/user_guide/indexing.html#returning-a-view-versus-a-copy\n",
            "  df['Age Group'][i] = 0\n",
            "<ipython-input-12-04cdece9ffc1>:5: SettingWithCopyWarning: \n",
            "A value is trying to be set on a copy of a slice from a DataFrame\n",
            "\n",
            "See the caveats in the documentation: https://pandas.pydata.org/pandas-docs/stable/user_guide/indexing.html#returning-a-view-versus-a-copy\n",
            "  df['Age Group'][i] = 1\n",
            "<ipython-input-12-04cdece9ffc1>:7: SettingWithCopyWarning: \n",
            "A value is trying to be set on a copy of a slice from a DataFrame\n",
            "\n",
            "See the caveats in the documentation: https://pandas.pydata.org/pandas-docs/stable/user_guide/indexing.html#returning-a-view-versus-a-copy\n",
            "  df['Age Group'][i] = 2\n"
          ]
        }
      ]
    },
    {
      "cell_type": "code",
      "source": [
        "df['Day'].unique()"
      ],
      "metadata": {
        "colab": {
          "base_uri": "https://localhost:8080/"
        },
        "id": "b-W0reUXGrFn",
        "outputId": "83267b31-e600-48ea-92d7-3b072850d89b"
      },
      "execution_count": null,
      "outputs": [
        {
          "output_type": "execute_result",
          "data": {
            "text/plain": [
              "array(['Day 1', 'Day 2', 'Day 3', 'Day 4', 'Day 5', 'Day 6', 'Day 7',\n",
              "       'Day 8', 'Day 9', 'Day 10'], dtype=object)"
            ]
          },
          "metadata": {},
          "execution_count": 13
        }
      ]
    },
    {
      "cell_type": "code",
      "source": [
        "for i in range(len(df['Day'])):\n",
        "  if(df['Day'][i] == 'Day 1'):\n",
        "    df['Day'][i] = 0\n",
        "  if(df['Day'][i] == 'Day 2'):\n",
        "    df['Day'][i] = 1\n",
        "  if(df['Day'][i] == 'Day 3'):\n",
        "    df['Day'][i] = 2\n",
        "  if(df['Day'][i] == 'Day 4'):\n",
        "    df['Day'][i] = 3\n",
        "  if(df['Day'][i] == 'Day 5'):\n",
        "    df['Day'][i] = 4\n",
        "  if(df['Day'][i] == 'Day 6'):\n",
        "    df['Day'][i] = 5\n",
        "  if(df['Day'][i] == 'Day 7'):\n",
        "    df['Day'][i] = 6\n",
        "  if(df['Day'][i] == 'Day 8'):\n",
        "    df['Day'][i] = 7\n",
        "  if(df['Day'][i] == 'Day 9'):\n",
        "    df['Day'][i] = 8\n",
        "  if(df['Day'][i] == 'Day 10'):\n",
        "    df['Day'][i] = 9"
      ],
      "metadata": {
        "colab": {
          "base_uri": "https://localhost:8080/"
        },
        "id": "_4XDzU47GvMo",
        "outputId": "f40dc592-ad1e-4ce7-c21b-88637cc20de8"
      },
      "execution_count": null,
      "outputs": [
        {
          "output_type": "stream",
          "name": "stderr",
          "text": [
            "<ipython-input-14-29effbd8f1ed>:3: SettingWithCopyWarning: \n",
            "A value is trying to be set on a copy of a slice from a DataFrame\n",
            "\n",
            "See the caveats in the documentation: https://pandas.pydata.org/pandas-docs/stable/user_guide/indexing.html#returning-a-view-versus-a-copy\n",
            "  df['Day'][i] = 0\n",
            "<ipython-input-14-29effbd8f1ed>:5: SettingWithCopyWarning: \n",
            "A value is trying to be set on a copy of a slice from a DataFrame\n",
            "\n",
            "See the caveats in the documentation: https://pandas.pydata.org/pandas-docs/stable/user_guide/indexing.html#returning-a-view-versus-a-copy\n",
            "  df['Day'][i] = 1\n",
            "<ipython-input-14-29effbd8f1ed>:7: SettingWithCopyWarning: \n",
            "A value is trying to be set on a copy of a slice from a DataFrame\n",
            "\n",
            "See the caveats in the documentation: https://pandas.pydata.org/pandas-docs/stable/user_guide/indexing.html#returning-a-view-versus-a-copy\n",
            "  df['Day'][i] = 2\n",
            "<ipython-input-14-29effbd8f1ed>:9: SettingWithCopyWarning: \n",
            "A value is trying to be set on a copy of a slice from a DataFrame\n",
            "\n",
            "See the caveats in the documentation: https://pandas.pydata.org/pandas-docs/stable/user_guide/indexing.html#returning-a-view-versus-a-copy\n",
            "  df['Day'][i] = 3\n",
            "<ipython-input-14-29effbd8f1ed>:11: SettingWithCopyWarning: \n",
            "A value is trying to be set on a copy of a slice from a DataFrame\n",
            "\n",
            "See the caveats in the documentation: https://pandas.pydata.org/pandas-docs/stable/user_guide/indexing.html#returning-a-view-versus-a-copy\n",
            "  df['Day'][i] = 4\n",
            "<ipython-input-14-29effbd8f1ed>:13: SettingWithCopyWarning: \n",
            "A value is trying to be set on a copy of a slice from a DataFrame\n",
            "\n",
            "See the caveats in the documentation: https://pandas.pydata.org/pandas-docs/stable/user_guide/indexing.html#returning-a-view-versus-a-copy\n",
            "  df['Day'][i] = 5\n",
            "<ipython-input-14-29effbd8f1ed>:15: SettingWithCopyWarning: \n",
            "A value is trying to be set on a copy of a slice from a DataFrame\n",
            "\n",
            "See the caveats in the documentation: https://pandas.pydata.org/pandas-docs/stable/user_guide/indexing.html#returning-a-view-versus-a-copy\n",
            "  df['Day'][i] = 6\n",
            "<ipython-input-14-29effbd8f1ed>:17: SettingWithCopyWarning: \n",
            "A value is trying to be set on a copy of a slice from a DataFrame\n",
            "\n",
            "See the caveats in the documentation: https://pandas.pydata.org/pandas-docs/stable/user_guide/indexing.html#returning-a-view-versus-a-copy\n",
            "  df['Day'][i] = 7\n",
            "<ipython-input-14-29effbd8f1ed>:19: SettingWithCopyWarning: \n",
            "A value is trying to be set on a copy of a slice from a DataFrame\n",
            "\n",
            "See the caveats in the documentation: https://pandas.pydata.org/pandas-docs/stable/user_guide/indexing.html#returning-a-view-versus-a-copy\n",
            "  df['Day'][i] = 8\n",
            "<ipython-input-14-29effbd8f1ed>:21: SettingWithCopyWarning: \n",
            "A value is trying to be set on a copy of a slice from a DataFrame\n",
            "\n",
            "See the caveats in the documentation: https://pandas.pydata.org/pandas-docs/stable/user_guide/indexing.html#returning-a-view-versus-a-copy\n",
            "  df['Day'][i] = 9\n"
          ]
        }
      ]
    },
    {
      "cell_type": "code",
      "source": [
        "heart = []\n",
        "for i in range(len(df['HearRate'])):\n",
        "  if(df['HearRate'][i] < 60):\n",
        "    heart.append(0)\n",
        "  elif(df['HearRate'][i] > 100):\n",
        "    heart.append(1)\n",
        "  else:\n",
        "    heart.append(2)\n",
        "\n",
        "c1 = 0\n",
        "c2 = 0\n",
        "c3 = 0\n",
        "for i in heart:\n",
        "   if (i == 0):\n",
        "      c1 += 1\n",
        "   if (i == 1):\n",
        "      c2 += 1\n",
        "   if (i == 2):\n",
        "      c3 += 1\n",
        "print(c1, c2, c3)"
      ],
      "metadata": {
        "colab": {
          "base_uri": "https://localhost:8080/"
        },
        "id": "jUAdV5PCHG2j",
        "outputId": "58f479ae-a2f2-46f0-ccfd-4c17383b6054"
      },
      "execution_count": null,
      "outputs": [
        {
          "output_type": "stream",
          "name": "stdout",
          "text": [
            "124 336 440\n"
          ]
        }
      ]
    },
    {
      "cell_type": "code",
      "source": [
        "temp = []\n",
        "for i in range(len(df['Temperature'])):\n",
        "  if(df['Temperature'][i] < 98):\n",
        "    temp.append(0)\n",
        "  elif(df['HearRate'][i] > 104):\n",
        "    temp.append(1)\n",
        "  else:\n",
        "    temp.append(2)\n",
        "\n",
        "c1 = 0\n",
        "c2 = 0\n",
        "c3 = 0\n",
        "for i in temp:\n",
        "   if (i == 0):\n",
        "      c1 += 1\n",
        "   if (i == 1):\n",
        "      c2 += 1\n",
        "   if (i == 2):\n",
        "      c3 += 1\n",
        "print(c1, c2, c3)"
      ],
      "metadata": {
        "colab": {
          "base_uri": "https://localhost:8080/"
        },
        "id": "X_TJgSLTJnGw",
        "outputId": "7711246d-7d64-4a84-f2f0-5de06713974e"
      },
      "execution_count": null,
      "outputs": [
        {
          "output_type": "stream",
          "name": "stdout",
          "text": [
            "308 163 429\n"
          ]
        }
      ]
    },
    {
      "cell_type": "code",
      "source": [
        "sp = []\n",
        "for i in range(len(df['SpO2'])):\n",
        "   if(df['SpO2'][i] < 90):\n",
        "      sp.append(0)\n",
        "   elif(df['SpO2'][i] > 95):\n",
        "      sp.append(1)\n",
        "   else:\n",
        "      sp.append(0)\n",
        "\n",
        "c1 = 0\n",
        "c2 = 0\n",
        "\n",
        "for i in sp:\n",
        "  if (i == 0):\n",
        "    c1 += 1\n",
        "  if (i == 1):\n",
        "    c2 += 1\n",
        "print(c1, c2)"
      ],
      "metadata": {
        "colab": {
          "base_uri": "https://localhost:8080/"
        },
        "id": "Plukp3gxHcQh",
        "outputId": "3b8882d0-4370-4c51-991e-0fc448446c4d"
      },
      "execution_count": null,
      "outputs": [
        {
          "output_type": "stream",
          "name": "stdout",
          "text": [
            "559 341\n"
          ]
        }
      ]
    },
    {
      "cell_type": "code",
      "source": [
        "df['heart']=heart"
      ],
      "metadata": {
        "id": "R-AiRPGPIi5f"
      },
      "execution_count": null,
      "outputs": []
    },
    {
      "cell_type": "code",
      "source": [
        "\n",
        "df['sp']=sp"
      ],
      "metadata": {
        "id": "PQadEupDJQQ5"
      },
      "execution_count": null,
      "outputs": []
    },
    {
      "cell_type": "code",
      "source": [
        "df['temp']=temp"
      ],
      "metadata": {
        "id": "28S--tKsJ9Gx"
      },
      "execution_count": null,
      "outputs": []
    },
    {
      "cell_type": "code",
      "source": [
        "df"
      ],
      "metadata": {
        "colab": {
          "base_uri": "https://localhost:8080/",
          "height": 423
        },
        "id": "0aLkQYUCJVKl",
        "outputId": "1271ace6-87ee-47f4-be81-f68a6f95f3d7"
      },
      "execution_count": null,
      "outputs": [
        {
          "output_type": "execute_result",
          "data": {
            "text/plain": [
              "    Subject Session Age Group Day  HearRate  SpO2  Temperature  heart  sp  \\\n",
              "0         0       0         0   0        79    98          103      2   1   \n",
              "1         0       0         0   1        76    97           98      2   1   \n",
              "2         0       0         0   2        74    97           90      2   1   \n",
              "3         0       0         0   3        75    98          100      2   1   \n",
              "4         0       0         0   4        72    96           92      2   1   \n",
              "..      ...     ...       ...  ..       ...   ...          ...    ...  ..   \n",
              "895       9       2         2   5        81    98          110      2   1   \n",
              "896       9       2         2   6        79    96          108      2   1   \n",
              "897       9       2         2   7        86    96           90      2   1   \n",
              "898       9       2         2   8        91    81           95      2   0   \n",
              "899       9       2         2   9        87    96           97      2   1   \n",
              "\n",
              "     temp  \n",
              "0       2  \n",
              "1       2  \n",
              "2       0  \n",
              "3       2  \n",
              "4       0  \n",
              "..    ...  \n",
              "895     2  \n",
              "896     2  \n",
              "897     0  \n",
              "898     0  \n",
              "899     0  \n",
              "\n",
              "[900 rows x 10 columns]"
            ],
            "text/html": [
              "\n",
              "\n",
              "  <div id=\"df-f7348074-3379-4324-af5d-565b7338826b\">\n",
              "    <div class=\"colab-df-container\">\n",
              "      <div>\n",
              "<style scoped>\n",
              "    .dataframe tbody tr th:only-of-type {\n",
              "        vertical-align: middle;\n",
              "    }\n",
              "\n",
              "    .dataframe tbody tr th {\n",
              "        vertical-align: top;\n",
              "    }\n",
              "\n",
              "    .dataframe thead th {\n",
              "        text-align: right;\n",
              "    }\n",
              "</style>\n",
              "<table border=\"1\" class=\"dataframe\">\n",
              "  <thead>\n",
              "    <tr style=\"text-align: right;\">\n",
              "      <th></th>\n",
              "      <th>Subject</th>\n",
              "      <th>Session</th>\n",
              "      <th>Age Group</th>\n",
              "      <th>Day</th>\n",
              "      <th>HearRate</th>\n",
              "      <th>SpO2</th>\n",
              "      <th>Temperature</th>\n",
              "      <th>heart</th>\n",
              "      <th>sp</th>\n",
              "      <th>temp</th>\n",
              "    </tr>\n",
              "  </thead>\n",
              "  <tbody>\n",
              "    <tr>\n",
              "      <th>0</th>\n",
              "      <td>0</td>\n",
              "      <td>0</td>\n",
              "      <td>0</td>\n",
              "      <td>0</td>\n",
              "      <td>79</td>\n",
              "      <td>98</td>\n",
              "      <td>103</td>\n",
              "      <td>2</td>\n",
              "      <td>1</td>\n",
              "      <td>2</td>\n",
              "    </tr>\n",
              "    <tr>\n",
              "      <th>1</th>\n",
              "      <td>0</td>\n",
              "      <td>0</td>\n",
              "      <td>0</td>\n",
              "      <td>1</td>\n",
              "      <td>76</td>\n",
              "      <td>97</td>\n",
              "      <td>98</td>\n",
              "      <td>2</td>\n",
              "      <td>1</td>\n",
              "      <td>2</td>\n",
              "    </tr>\n",
              "    <tr>\n",
              "      <th>2</th>\n",
              "      <td>0</td>\n",
              "      <td>0</td>\n",
              "      <td>0</td>\n",
              "      <td>2</td>\n",
              "      <td>74</td>\n",
              "      <td>97</td>\n",
              "      <td>90</td>\n",
              "      <td>2</td>\n",
              "      <td>1</td>\n",
              "      <td>0</td>\n",
              "    </tr>\n",
              "    <tr>\n",
              "      <th>3</th>\n",
              "      <td>0</td>\n",
              "      <td>0</td>\n",
              "      <td>0</td>\n",
              "      <td>3</td>\n",
              "      <td>75</td>\n",
              "      <td>98</td>\n",
              "      <td>100</td>\n",
              "      <td>2</td>\n",
              "      <td>1</td>\n",
              "      <td>2</td>\n",
              "    </tr>\n",
              "    <tr>\n",
              "      <th>4</th>\n",
              "      <td>0</td>\n",
              "      <td>0</td>\n",
              "      <td>0</td>\n",
              "      <td>4</td>\n",
              "      <td>72</td>\n",
              "      <td>96</td>\n",
              "      <td>92</td>\n",
              "      <td>2</td>\n",
              "      <td>1</td>\n",
              "      <td>0</td>\n",
              "    </tr>\n",
              "    <tr>\n",
              "      <th>...</th>\n",
              "      <td>...</td>\n",
              "      <td>...</td>\n",
              "      <td>...</td>\n",
              "      <td>...</td>\n",
              "      <td>...</td>\n",
              "      <td>...</td>\n",
              "      <td>...</td>\n",
              "      <td>...</td>\n",
              "      <td>...</td>\n",
              "      <td>...</td>\n",
              "    </tr>\n",
              "    <tr>\n",
              "      <th>895</th>\n",
              "      <td>9</td>\n",
              "      <td>2</td>\n",
              "      <td>2</td>\n",
              "      <td>5</td>\n",
              "      <td>81</td>\n",
              "      <td>98</td>\n",
              "      <td>110</td>\n",
              "      <td>2</td>\n",
              "      <td>1</td>\n",
              "      <td>2</td>\n",
              "    </tr>\n",
              "    <tr>\n",
              "      <th>896</th>\n",
              "      <td>9</td>\n",
              "      <td>2</td>\n",
              "      <td>2</td>\n",
              "      <td>6</td>\n",
              "      <td>79</td>\n",
              "      <td>96</td>\n",
              "      <td>108</td>\n",
              "      <td>2</td>\n",
              "      <td>1</td>\n",
              "      <td>2</td>\n",
              "    </tr>\n",
              "    <tr>\n",
              "      <th>897</th>\n",
              "      <td>9</td>\n",
              "      <td>2</td>\n",
              "      <td>2</td>\n",
              "      <td>7</td>\n",
              "      <td>86</td>\n",
              "      <td>96</td>\n",
              "      <td>90</td>\n",
              "      <td>2</td>\n",
              "      <td>1</td>\n",
              "      <td>0</td>\n",
              "    </tr>\n",
              "    <tr>\n",
              "      <th>898</th>\n",
              "      <td>9</td>\n",
              "      <td>2</td>\n",
              "      <td>2</td>\n",
              "      <td>8</td>\n",
              "      <td>91</td>\n",
              "      <td>81</td>\n",
              "      <td>95</td>\n",
              "      <td>2</td>\n",
              "      <td>0</td>\n",
              "      <td>0</td>\n",
              "    </tr>\n",
              "    <tr>\n",
              "      <th>899</th>\n",
              "      <td>9</td>\n",
              "      <td>2</td>\n",
              "      <td>2</td>\n",
              "      <td>9</td>\n",
              "      <td>87</td>\n",
              "      <td>96</td>\n",
              "      <td>97</td>\n",
              "      <td>2</td>\n",
              "      <td>1</td>\n",
              "      <td>0</td>\n",
              "    </tr>\n",
              "  </tbody>\n",
              "</table>\n",
              "<p>900 rows × 10 columns</p>\n",
              "</div>\n",
              "      <button class=\"colab-df-convert\" onclick=\"convertToInteractive('df-f7348074-3379-4324-af5d-565b7338826b')\"\n",
              "              title=\"Convert this dataframe to an interactive table.\"\n",
              "              style=\"display:none;\">\n",
              "\n",
              "  <svg xmlns=\"http://www.w3.org/2000/svg\" height=\"24px\"viewBox=\"0 0 24 24\"\n",
              "       width=\"24px\">\n",
              "    <path d=\"M0 0h24v24H0V0z\" fill=\"none\"/>\n",
              "    <path d=\"M18.56 5.44l.94 2.06.94-2.06 2.06-.94-2.06-.94-.94-2.06-.94 2.06-2.06.94zm-11 1L8.5 8.5l.94-2.06 2.06-.94-2.06-.94L8.5 2.5l-.94 2.06-2.06.94zm10 10l.94 2.06.94-2.06 2.06-.94-2.06-.94-.94-2.06-.94 2.06-2.06.94z\"/><path d=\"M17.41 7.96l-1.37-1.37c-.4-.4-.92-.59-1.43-.59-.52 0-1.04.2-1.43.59L10.3 9.45l-7.72 7.72c-.78.78-.78 2.05 0 2.83L4 21.41c.39.39.9.59 1.41.59.51 0 1.02-.2 1.41-.59l7.78-7.78 2.81-2.81c.8-.78.8-2.07 0-2.86zM5.41 20L4 18.59l7.72-7.72 1.47 1.35L5.41 20z\"/>\n",
              "  </svg>\n",
              "      </button>\n",
              "\n",
              "\n",
              "\n",
              "    <div id=\"df-787407e1-286f-44a1-a86e-64a903e56594\">\n",
              "      <button class=\"colab-df-quickchart\" onclick=\"quickchart('df-787407e1-286f-44a1-a86e-64a903e56594')\"\n",
              "              title=\"Suggest charts.\"\n",
              "              style=\"display:none;\">\n",
              "\n",
              "<svg xmlns=\"http://www.w3.org/2000/svg\" height=\"24px\"viewBox=\"0 0 24 24\"\n",
              "     width=\"24px\">\n",
              "    <g>\n",
              "        <path d=\"M19 3H5c-1.1 0-2 .9-2 2v14c0 1.1.9 2 2 2h14c1.1 0 2-.9 2-2V5c0-1.1-.9-2-2-2zM9 17H7v-7h2v7zm4 0h-2V7h2v10zm4 0h-2v-4h2v4z\"/>\n",
              "    </g>\n",
              "</svg>\n",
              "      </button>\n",
              "    </div>\n",
              "\n",
              "<style>\n",
              "  .colab-df-quickchart {\n",
              "    background-color: #E8F0FE;\n",
              "    border: none;\n",
              "    border-radius: 50%;\n",
              "    cursor: pointer;\n",
              "    display: none;\n",
              "    fill: #1967D2;\n",
              "    height: 32px;\n",
              "    padding: 0 0 0 0;\n",
              "    width: 32px;\n",
              "  }\n",
              "\n",
              "  .colab-df-quickchart:hover {\n",
              "    background-color: #E2EBFA;\n",
              "    box-shadow: 0px 1px 2px rgba(60, 64, 67, 0.3), 0px 1px 3px 1px rgba(60, 64, 67, 0.15);\n",
              "    fill: #174EA6;\n",
              "  }\n",
              "\n",
              "  [theme=dark] .colab-df-quickchart {\n",
              "    background-color: #3B4455;\n",
              "    fill: #D2E3FC;\n",
              "  }\n",
              "\n",
              "  [theme=dark] .colab-df-quickchart:hover {\n",
              "    background-color: #434B5C;\n",
              "    box-shadow: 0px 1px 3px 1px rgba(0, 0, 0, 0.15);\n",
              "    filter: drop-shadow(0px 1px 2px rgba(0, 0, 0, 0.3));\n",
              "    fill: #FFFFFF;\n",
              "  }\n",
              "</style>\n",
              "\n",
              "    <script>\n",
              "      async function quickchart(key) {\n",
              "        const containerElement = document.querySelector('#' + key);\n",
              "        const charts = await google.colab.kernel.invokeFunction(\n",
              "            'suggestCharts', [key], {});\n",
              "      }\n",
              "    </script>\n",
              "\n",
              "      <script>\n",
              "\n",
              "function displayQuickchartButton(domScope) {\n",
              "  let quickchartButtonEl =\n",
              "    domScope.querySelector('#df-787407e1-286f-44a1-a86e-64a903e56594 button.colab-df-quickchart');\n",
              "  quickchartButtonEl.style.display =\n",
              "    google.colab.kernel.accessAllowed ? 'block' : 'none';\n",
              "}\n",
              "\n",
              "        displayQuickchartButton(document);\n",
              "      </script>\n",
              "      <style>\n",
              "    .colab-df-container {\n",
              "      display:flex;\n",
              "      flex-wrap:wrap;\n",
              "      gap: 12px;\n",
              "    }\n",
              "\n",
              "    .colab-df-convert {\n",
              "      background-color: #E8F0FE;\n",
              "      border: none;\n",
              "      border-radius: 50%;\n",
              "      cursor: pointer;\n",
              "      display: none;\n",
              "      fill: #1967D2;\n",
              "      height: 32px;\n",
              "      padding: 0 0 0 0;\n",
              "      width: 32px;\n",
              "    }\n",
              "\n",
              "    .colab-df-convert:hover {\n",
              "      background-color: #E2EBFA;\n",
              "      box-shadow: 0px 1px 2px rgba(60, 64, 67, 0.3), 0px 1px 3px 1px rgba(60, 64, 67, 0.15);\n",
              "      fill: #174EA6;\n",
              "    }\n",
              "\n",
              "    [theme=dark] .colab-df-convert {\n",
              "      background-color: #3B4455;\n",
              "      fill: #D2E3FC;\n",
              "    }\n",
              "\n",
              "    [theme=dark] .colab-df-convert:hover {\n",
              "      background-color: #434B5C;\n",
              "      box-shadow: 0px 1px 3px 1px rgba(0, 0, 0, 0.15);\n",
              "      filter: drop-shadow(0px 1px 2px rgba(0, 0, 0, 0.3));\n",
              "      fill: #FFFFFF;\n",
              "    }\n",
              "  </style>\n",
              "\n",
              "      <script>\n",
              "        const buttonEl =\n",
              "          document.querySelector('#df-f7348074-3379-4324-af5d-565b7338826b button.colab-df-convert');\n",
              "        buttonEl.style.display =\n",
              "          google.colab.kernel.accessAllowed ? 'block' : 'none';\n",
              "\n",
              "        async function convertToInteractive(key) {\n",
              "          const element = document.querySelector('#df-f7348074-3379-4324-af5d-565b7338826b');\n",
              "          const dataTable =\n",
              "            await google.colab.kernel.invokeFunction('convertToInteractive',\n",
              "                                                     [key], {});\n",
              "          if (!dataTable) return;\n",
              "\n",
              "          const docLinkHtml = 'Like what you see? Visit the ' +\n",
              "            '<a target=\"_blank\" href=https://colab.research.google.com/notebooks/data_table.ipynb>data table notebook</a>'\n",
              "            + ' to learn more about interactive tables.';\n",
              "          element.innerHTML = '';\n",
              "          dataTable['output_type'] = 'display_data';\n",
              "          await google.colab.output.renderOutput(dataTable, element);\n",
              "          const docLink = document.createElement('div');\n",
              "          docLink.innerHTML = docLinkHtml;\n",
              "          element.appendChild(docLink);\n",
              "        }\n",
              "      </script>\n",
              "    </div>\n",
              "  </div>\n"
            ]
          },
          "metadata": {},
          "execution_count": 21
        }
      ]
    },
    {
      "cell_type": "code",
      "source": [
        "hist = df.hist(bins=100)"
      ],
      "metadata": {
        "colab": {
          "base_uri": "https://localhost:8080/",
          "height": 452
        },
        "id": "OWspt5xrKVbE",
        "outputId": "bbf7a9cb-e74e-41b5-ea71-0427641bfdae"
      },
      "execution_count": null,
      "outputs": [
        {
          "output_type": "display_data",
          "data": {
            "text/plain": [
              "<Figure size 640x480 with 6 Axes>"
            ],
            "image/png": "[encoded data removed]"
          },
          "metadata": {}
        }
      ]
    },
    {
      "cell_type": "code",
      "source": [
        "import numpy as np\n",
        "X = np.array(df.drop([\"heart\", \"sp\",\"temp\"], axis = 1))\n",
        "y1 = np.array(df[\"heart\"])\n",
        "y2 = np.array(df[\"sp\"])\n",
        "y3 = np.array(df[\"temp\"])\n",
        "y5= np.array(df[\"HearRate\"])"
      ],
      "metadata": {
        "id": "pP_FrzdKKi4Y"
      },
      "execution_count": null,
      "outputs": []
    },
    {
      "cell_type": "code",
      "source": [
        "print(X)\n",
        "print(y1)\n",
        "print(y2)\n",
        "print(y3)"
      ],
      "metadata": {
        "colab": {
          "base_uri": "https://localhost:8080/"
        },
        "id": "2pw00pWHKmgl",
        "outputId": "d4c0d86b-01cb-4f17-b770-a8ddbc1112db"
      },
      "execution_count": null,
      "outputs": [
        {
          "output_type": "stream",
          "name": "stdout",
          "text": [
            "[[0 0 0 ... 79 98 103]\n",
            " [0 0 0 ... 76 97 98]\n",
            " [0 0 0 ... 74 97 90]\n",
            " ...\n",
            " [9 2 2 ... 86 96 90]\n",
            " [9 2 2 ... 91 81 95]\n",
            " [9 2 2 ... 87 96 97]]\n",
            "[2 2 2 2 2 2 2 2 2 2 2 2 2 2 2 2 2 2 2 2 2 2 2 2 2 2 2 2 2 2 2 2 2 2 2 2 2\n",
            " 2 2 2 2 2 2 2 2 2 2 2 2 2 2 2 2 2 2 2 2 2 2 2 2 2 2 2 2 2 2 2 2 2 2 2 2 2\n",
            " 2 2 2 2 2 2 2 2 2 2 2 2 2 0 0 0 0 0 0 0 0 0 0 0 0 0 0 0 0 1 1 1 1 1 1 1 2\n",
            " 2 2 2 2 2 2 2 2 2 1 1 1 1 1 1 1 1 1 1 2 2 2 2 2 2 2 2 2 2 1 1 1 1 1 1 1 1\n",
            " 1 1 2 2 2 2 2 2 2 2 2 2 1 1 1 1 1 1 1 1 1 1 2 2 2 2 2 2 2 2 2 2 1 1 1 1 1\n",
            " 1 1 1 1 1 2 2 2 2 2 2 2 2 2 2 1 1 1 1 1 1 1 1 1 1 2 2 2 2 2 2 2 2 2 2 1 1\n",
            " 1 1 1 1 1 1 1 1 1 1 2 2 2 2 2 2 2 2 1 1 1 1 1 1 1 1 1 1 0 0 0 0 0 0 0 0 0\n",
            " 0 0 0 0 0 0 0 1 1 1 1 1 1 1 1 1 1 1 1 1 1 1 1 1 1 1 1 1 1 1 1 2 2 2 2 2 2\n",
            " 2 2 2 2 2 2 2 2 2 2 2 2 2 2 2 1 1 1 1 1 1 1 1 1 1 2 2 2 2 2 2 2 2 2 2 2 2\n",
            " 2 2 2 2 2 2 2 2 2 1 2 1 2 1 1 1 1 1 1 1 1 1 1 1 2 2 2 2 2 2 2 2 2 2 2 2 2\n",
            " 2 1 1 1 1 1 1 1 1 1 0 0 0 0 0 0 0 0 0 0 0 0 0 0 0 0 2 2 2 2 2 2 1 2 1 2 1\n",
            " 0 0 0 0 0 0 0 0 0 0 0 0 0 0 0 0 2 2 2 2 2 2 2 1 1 1 1 1 1 1 1 1 1 2 1 1 1\n",
            " 1 1 1 1 1 1 1 0 0 0 0 0 0 0 0 0 0 1 2 1 1 1 1 2 1 2 2 2 2 2 2 2 2 2 2 2 2\n",
            " 2 2 2 2 2 2 2 2 2 1 1 1 1 1 1 1 1 1 1 2 2 1 1 1 1 1 1 1 1 1 1 0 0 0 0 0 0\n",
            " 0 0 2 2 1 1 1 1 1 1 1 1 2 2 2 2 2 2 2 2 2 2 1 1 1 1 1 1 1 1 1 1 0 0 0 0 0\n",
            " 0 0 0 0 0 2 2 2 2 2 2 2 2 2 2 2 2 2 2 2 2 2 2 2 2 1 1 1 1 1 1 1 1 2 1 2 2\n",
            " 2 2 2 2 2 2 2 2 2 2 2 2 2 2 2 2 2 2 1 1 1 1 1 1 1 1 1 1 2 2 2 2 1 1 1 1 1\n",
            " 1 1 1 1 1 2 2 2 2 2 2 1 1 1 1 1 1 1 1 1 1 2 2 2 0 0 0 0 0 0 0 0 0 0 0 0 0\n",
            " 0 0 0 2 1 1 1 1 1 1 1 1 1 1 2 2 2 2 2 2 2 2 2 2 2 2 2 2 2 2 2 2 2 2 1 1 1\n",
            " 2 1 1 1 1 1 1 2 2 2 2 2 2 2 2 2 2 2 2 2 2 2 2 2 2 2 2 1 1 1 1 1 1 1 1 1 1\n",
            " 2 2 0 0 0 0 0 0 0 0 0 0 0 0 0 0 0 0 2 2 1 1 1 1 1 1 1 1 1 1 1 1 1 1 1 1 1\n",
            " 1 1 1 2 2 2 2 2 2 2 2 2 2 1 1 1 1 1 1 1 1 1 1 2 2 2 2 2 2 2 1 1 1 1 1 1 1\n",
            " 1 1 1 2 2 2 2 1 1 1 1 2 1 1 2 1 2 2 2 2 2 2 2 2 2 2 2 2 2 2 2 2 2 2 2 2 1\n",
            " 1 1 1 1 1 1 1 1 1 2 2 2 2 2 2 2 2 2 2 2 2 2 2 2 2 2 2 2 2 1 2 1 1 1 1 1 1\n",
            " 1 1 2 2 2 2 2 2 2 2 2 2]\n",
            "[1 1 1 1 1 1 1 1 1 1 0 0 0 0 1 1 1 0 1 0 0 0 0 0 0 0 0 0 0 0 0 0 0 0 1 0 1\n",
            " 1 0 1 1 1 1 1 1 1 0 1 0 1 1 1 0 1 1 1 1 1 1 0 0 0 0 0 0 0 0 0 0 0 0 0 0 0\n",
            " 1 0 1 1 0 1 1 1 1 1 1 1 1 1 1 1 1 1 1 1 1 1 1 1 0 0 0 0 0 0 0 0 0 0 0 0 0\n",
            " 0 0 1 0 1 1 0 1 1 1 1 0 1 0 1 1 1 1 1 1 1 1 1 1 1 1 1 1 1 1 0 0 0 0 0 0 0\n",
            " 0 0 0 0 0 0 0 0 1 0 1 1 0 1 1 1 1 1 1 1 1 1 1 1 1 1 1 1 1 1 1 1 0 1 0 0 0\n",
            " 0 0 0 0 0 0 0 0 0 0 0 0 0 1 0 1 1 0 1 1 1 1 1 1 1 1 1 1 1 1 0 0 0 0 0 0 0\n",
            " 0 0 0 0 0 0 0 0 1 0 1 1 0 1 1 1 1 1 1 1 0 1 1 1 1 1 1 0 0 0 0 0 0 0 0 0 0\n",
            " 0 0 0 0 0 1 0 1 1 0 1 0 0 0 0 0 1 1 0 1 1 1 1 1 1 1 1 1 1 1 0 0 0 0 0 0 0\n",
            " 0 0 0 0 0 0 0 0 1 0 1 1 0 1 1 1 1 1 1 1 1 1 0 1 1 0 0 0 0 0 0 0 0 0 0 0 0\n",
            " 0 0 0 1 0 1 1 0 0 0 1 1 1 0 0 1 0 0 0 1 0 0 0 0 0 0 0 0 0 0 0 0 0 0 0 0 1\n",
            " 0 1 1 0 1 1 0 1 1 1 1 1 1 1 1 1 1 0 0 0 0 0 0 0 0 0 0 0 0 0 0 0 1 0 1 1 0\n",
            " 0 1 0 0 0 1 0 0 0 0 0 0 0 0 0 0 0 0 0 0 0 0 0 0 0 1 0 1 1 0 1 1 1 1 1 1 1\n",
            " 1 1 1 0 0 0 0 0 0 0 0 0 0 0 0 0 0 0 1 0 1 1 0 1 1 1 1 1 0 0 0 0 0 0 0 0 0\n",
            " 0 0 0 0 0 0 1 0 1 1 0 1 1 1 0 0 0 0 0 0 0 0 0 0 0 0 0 0 0 1 0 1 1 0 1 1 0\n",
            " 0 1 0 0 1 0 0 0 0 0 0 0 0 0 0 0 0 0 0 0 1 0 1 1 0 0 1 1 0 0 0 0 0 0 0 0 0\n",
            " 0 0 0 0 0 0 1 0 1 1 0 1 1 1 1 0 0 0 0 0 0 0 0 0 0 0 0 0 0 0 1 0 1 1 0 0 1\n",
            " 1 1 1 1 0 0 0 0 0 0 0 0 0 0 0 0 0 0 0 1 0 1 1 0 1 1 0 0 0 0 0 0 0 0 0 0 0\n",
            " 0 0 0 0 1 0 1 1 0 1 1 1 1 0 0 0 0 0 0 0 0 0 0 0 0 0 0 0 1 0 1 1 0 0 1 1 0\n",
            " 0 0 0 0 0 0 0 0 0 0 0 0 0 0 1 0 1 1 0 1 0 0 1 0 0 0 0 0 0 0 0 0 0 0 0 0 0\n",
            " 0 0 1 0 1 1 0 1 1 1 1 1 1 0 0 0 0 0 0 0 0 0 0 0 0 0 0 0 1 0 1 1 0 1 1 1 0\n",
            " 0 0 0 0 0 0 0 0 0 0 0 0 0 0 1 0 1 1 0 1 1 1 0 0 0 0 0 0 0 0 0 0 0 0 0 0 0\n",
            " 1 0 1 1 0 1 1 0 0 0 0 0 0 0 0 0 0 0 0 0 0 0 1 0 1 1 0 1 1 1 1 1 1 1 1 1 1\n",
            " 0 0 0 0 0 0 0 0 0 0 0 0 0 1 0 1 1 0 1 1 1 0 1 1 1 1 1 1 1 1 1 0 0 0 0 0 0\n",
            " 0 0 0 0 0 0 0 1 0 1 1 0 1 1 1 0 1 0 1 0 0 0 0 1 1 1 0 0 0 0 0 0 0 0 0 0 0\n",
            " 0 0 1 0 1 1 0 1 1 1 0 1]\n",
            "[2 2 0 2 0 2 0 0 0 2 0 0 2 0 2 0 2 0 0 2 2 2 2 2 2 2 2 2 2 2 2 0 2 2 2 0 2\n",
            " 0 2 2 2 2 0 0 2 0 2 0 2 2 2 0 2 2 2 0 2 0 2 2 2 0 2 0 2 2 2 0 2 0 2 2 2 2\n",
            " 0 2 0 2 0 0 2 2 2 2 0 0 2 2 2 2 2 0 2 2 2 2 2 2 2 2 2 2 2 2 1 0 1 2 1 0 2\n",
            " 0 0 0 2 0 2 2 2 2 1 1 2 0 1 1 1 1 1 0 2 0 2 0 2 2 2 2 2 0 1 0 1 0 1 0 1 1\n",
            " 2 1 0 0 0 2 2 2 0 2 2 0 1 1 0 0 0 2 1 1 2 1 2 2 2 2 2 2 0 2 2 0 1 1 1 1 0\n",
            " 1 0 1 0 0 2 2 2 0 2 2 2 0 0 0 0 0 1 1 0 1 1 2 1 1 2 2 2 0 0 2 2 0 2 0 1 2\n",
            " 1 1 2 0 1 1 1 1 1 0 2 2 2 0 2 2 0 0 1 0 0 0 0 1 1 1 1 1 0 0 2 0 0 2 2 0 0\n",
            " 2 0 2 2 0 2 2 0 0 1 0 0 1 2 2 0 0 1 0 1 1 0 1 1 1 0 0 0 0 1 1 2 2 0 2 2 0\n",
            " 2 2 2 2 2 0 2 2 0 0 0 0 2 2 2 1 1 0 0 0 1 0 1 1 1 2 2 2 2 2 2 2 2 2 2 2 2\n",
            " 2 0 0 0 2 0 2 2 0 2 2 1 2 1 1 1 0 2 1 1 0 1 1 1 2 2 2 2 0 2 2 2 2 2 2 2 0\n",
            " 2 2 0 1 0 2 1 1 1 1 2 2 2 2 2 2 0 2 0 0 0 2 2 2 2 2 2 0 0 2 2 2 0 2 0 2 0\n",
            " 2 2 0 0 2 0 2 0 0 2 2 0 0 2 0 2 2 2 2 2 0 0 2 0 1 0 1 0 1 0 0 0 1 0 1 0 2\n",
            " 2 0 1 1 0 1 1 0 2 2 2 2 0 0 0 2 2 0 2 2 0 1 2 2 0 2 2 2 2 0 0 2 2 2 0 2 0\n",
            " 2 2 0 2 0 2 2 2 2 1 1 0 0 0 0 2 1 0 2 0 0 0 0 2 2 1 1 1 1 0 0 0 0 2 2 0 0\n",
            " 2 2 0 2 1 1 0 0 2 0 0 1 2 2 2 0 0 2 2 2 2 2 1 1 2 2 1 1 1 1 0 1 2 0 2 2 0\n",
            " 2 0 0 2 0 2 2 2 2 2 2 2 2 2 0 0 2 2 0 2 2 2 0 2 0 2 1 0 0 0 1 0 2 2 1 2 0\n",
            " 2 0 2 2 2 0 2 2 0 2 2 2 0 2 2 0 2 0 0 2 1 1 1 0 2 1 1 0 0 2 2 0 0 1 0 0 0\n",
            " 1 0 0 1 0 2 2 0 0 0 2 0 1 1 1 1 2 2 1 0 1 0 2 2 2 2 2 2 2 2 2 2 2 2 2 2 0\n",
            " 2 0 2 2 0 0 1 0 2 0 0 1 0 0 0 0 0 2 2 0 2 0 0 2 2 2 0 2 2 0 2 2 0 2 2 1 0\n",
            " 2 0 2 1 1 1 2 2 2 2 2 2 2 0 0 0 2 2 2 2 2 0 0 2 0 0 0 2 1 0 1 0 1 0 1 0 1\n",
            " 2 2 2 2 0 2 2 2 2 2 2 2 0 2 2 2 2 2 2 2 2 1 1 1 1 0 0 2 2 2 1 0 0 0 1 1 1\n",
            " 1 0 0 2 0 2 2 2 2 2 0 2 2 1 1 2 0 1 0 1 2 1 1 2 0 2 0 2 2 0 0 1 2 2 1 1 1\n",
            " 0 1 1 2 2 2 2 0 2 1 0 0 1 2 2 1 2 0 2 2 0 2 2 2 0 0 0 2 2 2 0 0 0 0 2 2 1\n",
            " 1 2 2 1 1 0 2 0 0 0 2 0 0 2 0 2 2 2 0 0 2 2 2 2 2 2 0 0 2 2 2 0 0 0 0 1 0\n",
            " 1 1 2 2 2 2 0 2 2 0 0 0]\n"
          ]
        }
      ]
    },
    {
      "cell_type": "code",
      "source": [
        "from sklearn.model_selection import train_test_split\n",
        "X_train, X_test, y1_train, y1_test = train_test_split(X, y1, test_size=0.20)"
      ],
      "metadata": {
        "id": "duTxNqzdK8hp"
      },
      "execution_count": null,
      "outputs": []
    },
    {
      "cell_type": "code",
      "source": [
        "from sklearn.neighbors import KNeighborsClassifier\n",
        "from sklearn import metrics\n",
        "from sklearn.metrics import f1_score, recall_score\n",
        "model = KNeighborsClassifier(n_neighbors=7)\n",
        "model.fit(X_train,y1_train)\n",
        "pred = model.predict(X_test)\n",
        "print(metrics.accuracy_score(y1_test, pred))\n",
        "print(metrics.precision_score(y1_test, pred,average='macro'))\n",
        "print(metrics.f1_score(y1_test, pred,average='macro'))\n",
        "print(metrics.recall_score(y1_test, pred,average = 'macro'))\n",
        "print(metrics.confusion_matrix(y1_test, pred))"
      ],
      "metadata": {
        "colab": {
          "base_uri": "https://localhost:8080/"
        },
        "id": "H8ySHtP_Lblm",
        "outputId": "d03b03dd-2cb6-43d8-f9f8-6c687e8f24ae"
      },
      "execution_count": null,
      "outputs": [
        {
          "output_type": "stream",
          "name": "stdout",
          "text": [
            "0.9777777777777777\n",
            "0.981981981981982\n",
            "0.9827086122266845\n",
            "0.9843137254901961\n",
            "[[25  0  0]\n",
            " [ 0 70  0]\n",
            " [ 0  4 81]]\n"
          ]
        }
      ]
    },
    {
      "cell_type": "code",
      "source": [
        "X_train, X_test, y2_train, y2_test = train_test_split(X, y2, test_size=0.20)"
      ],
      "metadata": {
        "id": "Tlis76XZNOjJ"
      },
      "execution_count": null,
      "outputs": []
    },
    {
      "cell_type": "code",
      "source": [
        "model = KNeighborsClassifier(n_neighbors=7)\n",
        "model.fit(X_train,y2_train)\n",
        "pred = model.predict(X_test)\n",
        "print(metrics.accuracy_score(y2_test, pred))\n",
        "print(metrics.precision_score(y2_test, pred,average='macro'))\n",
        "print(metrics.f1_score(y2_test, pred,average='macro'))\n",
        "print(metrics.recall_score(y2_test, pred,average = 'macro'))\n",
        "print(metrics.confusion_matrix(y2_test, pred))"
      ],
      "metadata": {
        "colab": {
          "base_uri": "https://localhost:8080/"
        },
        "id": "d--12FMwNXoY",
        "outputId": "c4e74ca1-55fc-42f8-b5dc-056939afe98c"
      },
      "execution_count": null,
      "outputs": [
        {
          "output_type": "stream",
          "name": "stdout",
          "text": [
            "0.9055555555555556\n",
            "0.9021523998020782\n",
            "0.9042523232892143\n",
            "0.9162079119190885\n",
            "[[92 15]\n",
            " [ 2 71]]\n"
          ]
        }
      ]
    },
    {
      "cell_type": "code",
      "source": [
        "X_train, X_test, y3_train, y3_test = train_test_split(X, y3, test_size=0.20)"
      ],
      "metadata": {
        "id": "3gkNUNvfNpEH"
      },
      "execution_count": null,
      "outputs": []
    },
    {
      "cell_type": "code",
      "source": [
        "model = KNeighborsClassifier(n_neighbors=7)\n",
        "model.fit(X_train,y3_train)\n",
        "pred = model.predict(X_test)\n",
        "print(metrics.accuracy_score(y3_test, pred))\n",
        "print(metrics.precision_score(y3_test, pred,average='macro'))\n",
        "print(metrics.f1_score(y3_test, pred,average='macro'))\n",
        "print(metrics.recall_score(y3_test, pred,average = 'macro'))\n",
        "print(metrics.confusion_matrix(y3_test, pred))"
      ],
      "metadata": {
        "colab": {
          "base_uri": "https://localhost:8080/"
        },
        "id": "U-gqQo6EQnXD",
        "outputId": "8c8661a6-0235-4296-ae4c-b461998df358"
      },
      "execution_count": null,
      "outputs": [
        {
          "output_type": "stream",
          "name": "stdout",
          "text": [
            "0.9111111111111111\n",
            "0.8773148148148148\n",
            "0.8984857790990017\n",
            "0.9285476758476108\n",
            "[[42  1  2]\n",
            " [ 1 28  0]\n",
            " [ 5  7 94]]\n"
          ]
        }
      ]
    },
    {
      "cell_type": "code",
      "source": [
        "from sklearn import svm\n",
        "\n",
        "clf = svm.SVC(kernel='linear')\n",
        "clf.fit(X_train, y1_train)\n",
        "\n",
        "pred = clf.predict(X_test)\n",
        "print(metrics.accuracy_score(y1_test, pred))\n",
        "print(metrics.precision_score(y1_test, pred,average='macro'))\n",
        "print(metrics.f1_score(y1_test, pred,average='macro'))\n",
        "print(metrics.recall_score(y1_test, pred,average = 'macro'))\n",
        "print(metrics.confusion_matrix(y1_test, pred))"
      ],
      "metadata": {
        "colab": {
          "base_uri": "https://localhost:8080/"
        },
        "id": "qfmvcPoqQkBv",
        "outputId": "fdbee077-d976-436e-a305-519ef89a82df"
      },
      "execution_count": null,
      "outputs": [
        {
          "output_type": "stream",
          "name": "stdout",
          "text": [
            "0.4722222222222222\n",
            "0.1574074074074074\n",
            "0.21383647798742136\n",
            "0.3333333333333333\n",
            "[[ 0  0 25]\n",
            " [ 0  0 70]\n",
            " [ 0  0 85]]\n"
          ]
        },
        {
          "output_type": "stream",
          "name": "stderr",
          "text": [
            "/usr/local/lib/python3.10/dist-packages/sklearn/metrics/_classification.py:1344: UndefinedMetricWarning: Precision is ill-defined and being set to 0.0 in labels with no predicted samples. Use `zero_division` parameter to control this behavior.\n",
            "  _warn_prf(average, modifier, msg_start, len(result))\n"
          ]
        }
      ]
    },
    {
      "cell_type": "code",
      "source": [
        "\n",
        "\n",
        "clf = svm.SVC(kernel='linear')\n",
        "clf.fit(X_train, y2_train)\n",
        "\n",
        "pred = clf.predict(X_test)\n",
        "print(metrics.accuracy_score(y2_test, pred))\n",
        "print(metrics.precision_score(y2_test, pred,average='macro'))\n",
        "print(metrics.f1_score(y2_test, pred,average='macro'))\n",
        "print(metrics.recall_score(y2_test, pred,average = 'macro'))\n",
        "print(metrics.confusion_matrix(y2_test, pred))"
      ],
      "metadata": {
        "colab": {
          "base_uri": "https://localhost:8080/"
        },
        "id": "Hft8XTFnS4RF",
        "outputId": "4d19b1ba-7d64-4048-a333-e32db7a7cdbc"
      },
      "execution_count": null,
      "outputs": [
        {
          "output_type": "stream",
          "name": "stdout",
          "text": [
            "0.5944444444444444\n",
            "0.2972222222222222\n",
            "0.37282229965156793\n",
            "0.5\n",
            "[[107   0]\n",
            " [ 73   0]]\n"
          ]
        },
        {
          "output_type": "stream",
          "name": "stderr",
          "text": [
            "/usr/local/lib/python3.10/dist-packages/sklearn/metrics/_classification.py:1344: UndefinedMetricWarning: Precision is ill-defined and being set to 0.0 in labels with no predicted samples. Use `zero_division` parameter to control this behavior.\n",
            "  _warn_prf(average, modifier, msg_start, len(result))\n"
          ]
        }
      ]
    },
    {
      "cell_type": "code",
      "source": [
        "\n",
        "\n",
        "clf = svm.SVC(kernel='linear')\n",
        "clf.fit(X_train, y3_train)\n",
        "\n",
        "pred = clf.predict(X_test)\n",
        "print(metrics.accuracy_score(y3_test, pred))\n",
        "print(metrics.precision_score(y3_test, pred,average='macro'))\n",
        "print(metrics.f1_score(y3_test, pred,average='macro'))\n",
        "print(metrics.recall_score(y3_test, pred,average = 'macro'))\n",
        "print(metrics.confusion_matrix(y3_test, pred))"
      ],
      "metadata": {
        "colab": {
          "base_uri": "https://localhost:8080/"
        },
        "id": "7XwIIlUWSdRL",
        "outputId": "0a274b9f-9e51-4e86-cf91-41adb485b0b1"
      },
      "execution_count": null,
      "outputs": [
        {
          "output_type": "stream",
          "name": "stdout",
          "text": [
            "0.9888888888888889\n",
            "0.9853610930383865\n",
            "0.9853610930383865\n",
            "0.9853610930383865\n",
            "[[ 45   0   0]\n",
            " [  0  28   1]\n",
            " [  0   1 105]]\n"
          ]
        }
      ]
    },
    {
      "cell_type": "code",
      "source": [
        "from sklearn.tree import DecisionTreeClassifier\n",
        "model = GaussianNB()\n",
        "model.fit(X_train,y1_train)\n",
        "pred = model.predict(X_test)\n",
        "print(metrics.accuracy_score(y1_test, pred))\n",
        "print(metrics.precision_score(y1_test, pred,average='macro'))\n",
        "print(metrics.f1_score(y1_test, pred,average='macro'))\n",
        "print(metrics.recall_score(y1_test, pred,average = 'macro'))\n",
        "print(metrics.confusion_matrix(y1_test, pred))"
      ],
      "metadata": {
        "colab": {
          "base_uri": "https://localhost:8080/"
        },
        "id": "FHoC6cGmTVN5",
        "outputId": "27cea5fe-0156-484d-d7ab-d878805dda68"
      },
      "execution_count": null,
      "outputs": [
        {
          "output_type": "stream",
          "name": "stdout",
          "text": [
            "0.45\n",
            "0.2553418803418803\n",
            "0.2543480180100644\n",
            "0.3235294117647059\n",
            "[[ 0  6 19]\n",
            " [ 0  7 63]\n",
            " [ 0 11 74]]\n"
          ]
        },
        {
          "output_type": "stream",
          "name": "stderr",
          "text": [
            "/usr/local/lib/python3.10/dist-packages/sklearn/metrics/_classification.py:1344: UndefinedMetricWarning: Precision is ill-defined and being set to 0.0 in labels with no predicted samples. Use `zero_division` parameter to control this behavior.\n",
            "  _warn_prf(average, modifier, msg_start, len(result))\n"
          ]
        }
      ]
    },
    {
      "cell_type": "code",
      "source": [
        "\n",
        "model = GaussianNB()\n",
        "model.fit(X_train,y2_train)\n",
        "pred = model.predict(X_test)\n",
        "print(metrics.accuracy_score(y2_test, pred))\n",
        "print(metrics.precision_score(y2_test, pred,average='macro'))\n",
        "print(metrics.f1_score(y2_test, pred,average='macro'))\n",
        "print(metrics.recall_score(y2_test, pred,average = 'macro'))\n",
        "print(metrics.confusion_matrix(y2_test, pred))"
      ],
      "metadata": {
        "colab": {
          "base_uri": "https://localhost:8080/"
        },
        "id": "rRyX0Kr1TdQq",
        "outputId": "fc936bf7-4fca-49a0-8539-4170999cde36"
      },
      "execution_count": null,
      "outputs": [
        {
          "output_type": "stream",
          "name": "stdout",
          "text": [
            "0.5944444444444444\n",
            "0.2972222222222222\n",
            "0.37282229965156793\n",
            "0.5\n",
            "[[107   0]\n",
            " [ 73   0]]\n"
          ]
        },
        {
          "output_type": "stream",
          "name": "stderr",
          "text": [
            "/usr/local/lib/python3.10/dist-packages/sklearn/metrics/_classification.py:1344: UndefinedMetricWarning: Precision is ill-defined and being set to 0.0 in labels with no predicted samples. Use `zero_division` parameter to control this behavior.\n",
            "  _warn_prf(average, modifier, msg_start, len(result))\n"
          ]
        }
      ]
    },
    {
      "cell_type": "code",
      "source": [
        "\n",
        "model = GaussianNB()\n",
        "model.fit(X_train,y3_train)\n",
        "pred = model.predict(X_test)\n",
        "print(metrics.accuracy_score(y3_test, pred))\n",
        "print(metrics.precision_score(y3_test, pred,average='macro'))\n",
        "print(metrics.f1_score(y3_test, pred,average='macro'))\n",
        "print(metrics.recall_score(y3_test, pred,average = 'macro'))\n",
        "print(metrics.confusion_matrix(y3_test, pred))"
      ],
      "metadata": {
        "colab": {
          "base_uri": "https://localhost:8080/"
        },
        "id": "6xPWB8hyTkY7",
        "outputId": "179485fe-d3f1-4790-9d4c-733dea13a4f1"
      },
      "execution_count": null,
      "outputs": [
        {
          "output_type": "stream",
          "name": "stdout",
          "text": [
            "0.9166666666666666\n",
            "0.8863636363636364\n",
            "0.90612613865517\n",
            "0.9528301886792453\n",
            "[[45  0  0]\n",
            " [ 0 29  0]\n",
            " [ 0 15 91]]\n"
          ]
        }
      ]
    },
    {
      "cell_type": "code",
      "source": [
        "data = {'Classifier': ['KNN','Linear SVM' , 'DT'],\n",
        "'Accuracy': [0.9777, 0.4833, 0.4277]}\n",
        "df = pd.DataFrame(data)\n",
        "\n",
        "age_plot = sns.barplot(x = 'Classifier', y = 'Accuracy', data = df)\n",
        "\n",
        "plt.setp(age_plot.get_xticklabels(), rotation=90)\n",
        "\n",
        "plt.ylim(0, 1)\n",
        "\n",
        "age_plot.tick_params(labelsize = 14)\n",
        "\n",
        "age_plot.tick_params(length = 0, axis = 'x')\n",
        "age_plot.set_ylabel(\"Heart Rate Accuracy Score\", fontsize = 15)\n",
        "age_plot.set_xlabel(\"Classifier\", fontsize = 15)\n",
        "plt.tight_layout()\n",
        "plt.show()"
      ],
      "metadata": {
        "colab": {
          "base_uri": "https://localhost:8080/",
          "height": 487
        },
        "id": "phgFDbPkU3DR",
        "outputId": "4bcc6ed0-cd45-4ec6-b843-e4813f0f977e"
      },
      "execution_count": null,
      "outputs": [
        {
          "output_type": "display_data",
          "data": {
            "text/plain": [
              "<Figure size 640x480 with 1 Axes>"
            ],
            "image/png": "[encoded data removed]"
          },
          "metadata": {}
        }
      ]
    },
    {
      "cell_type": "code",
      "source": [
        "data = {'Classifier': ['KNN','Linear SVM' , 'DT'],\n",
        "'Accuracy': [0.9719, 0.1611, 0.3523]}\n",
        "df = pd.DataFrame(data)\n",
        "\n",
        "age_plot = sns.barplot(x = 'Classifier', y = 'Accuracy', data = df)\n",
        "\n",
        "plt.setp(age_plot.get_xticklabels(), rotation=90)\n",
        "\n",
        "plt.ylim(0, 1)\n",
        "\n",
        "age_plot.tick_params(labelsize = 14)\n",
        "\n",
        "age_plot.tick_params(length = 0, axis = 'x')\n",
        "age_plot.set_ylabel(\"Heart Rate Precision_Score\", fontsize = 15)\n",
        "age_plot.set_xlabel(\"Classifier\", fontsize = 15)\n",
        "plt.tight_layout()\n",
        "plt.show()"
      ],
      "metadata": {
        "colab": {
          "base_uri": "https://localhost:8080/",
          "height": 487
        },
        "id": "8pKlqIa8Wf41",
        "outputId": "eeaa9297-bd90-4ddf-ce8e-b51ec56cc747"
      },
      "execution_count": null,
      "outputs": [
        {
          "output_type": "display_data",
          "data": {
            "text/plain": [
              "<Figure size 640x480 with 1 Axes>"
            ],
            "image/png": "[encoded data removed]"
          },
          "metadata": {}
        }
      ]
    },
    {
      "cell_type": "code",
      "source": [
        "data = {'Classifier': ['KNN','Linear SVM' , 'DT'],\n",
        "'Accuracy': [0.8722, 0.5833, 0.5166]}\n",
        "df = pd.DataFrame(data)\n",
        "\n",
        "age_plot = sns.barplot(x = 'Classifier', y = 'Accuracy', data = df)\n",
        "\n",
        "plt.setp(age_plot.get_xticklabels(), rotation=90)\n",
        "\n",
        "plt.ylim(0, 1)\n",
        "\n",
        "age_plot.tick_params(labelsize = 14)\n",
        "\n",
        "age_plot.tick_params(length = 0, axis = 'x')\n",
        "age_plot.set_ylabel(\"SpO2 Accuracy Score\", fontsize = 15)\n",
        "age_plot.set_xlabel(\"Classifier\", fontsize = 15)\n",
        "plt.tight_layout()\n",
        "plt.show()"
      ],
      "metadata": {
        "colab": {
          "base_uri": "https://localhost:8080/",
          "height": 487
        },
        "id": "wW1r-RD0YAT7",
        "outputId": "b484de8c-3f52-442e-c075-a8d6454fb3f2"
      },
      "execution_count": null,
      "outputs": [
        {
          "output_type": "display_data",
          "data": {
            "text/plain": [
              "<Figure size 640x480 with 1 Axes>"
            ],
            "image/png": "[encoded data removed]"
          },
          "metadata": {}
        }
      ]
    },
    {
      "cell_type": "code",
      "source": [
        "data = {'Classifier': ['KNN','Linear SVM' , 'DT'],\n",
        "'Accuracy': [0.8742, 0.2916, 0.4897]}\n",
        "df = pd.DataFrame(data)\n",
        "\n",
        "age_plot = sns.barplot(x = 'Classifier', y = 'Accuracy', data = df)\n",
        "\n",
        "plt.setp(age_plot.get_xticklabels(), rotation=90)\n",
        "\n",
        "plt.ylim(0, 1)\n",
        "\n",
        "age_plot.tick_params(labelsize = 14)\n",
        "\n",
        "age_plot.tick_params(length = 0, axis = 'x')\n",
        "age_plot.set_ylabel(\"SpO2 Precision Score\", fontsize = 15)\n",
        "age_plot.set_xlabel(\"Classifier\", fontsize = 15)\n",
        "plt.tight_layout()\n",
        "plt.show()"
      ],
      "metadata": {
        "colab": {
          "base_uri": "https://localhost:8080/",
          "height": 487
        },
        "id": "Av2z2_l2Y4zL",
        "outputId": "59691e4c-7d02-47da-98ec-af598ec89e58"
      },
      "execution_count": null,
      "outputs": [
        {
          "output_type": "display_data",
          "data": {
            "text/plain": [
              "<Figure size 640x480 with 1 Axes>"
            ],
            "image/png": "[encoded data removed]"
          },
          "metadata": {}
        }
      ]
    },
    {
      "cell_type": "code",
      "source": [],
      "metadata": {
        "id": "SNtC9QxQaIuT"
      },
      "execution_count": null,
      "outputs": []
    },
    {
      "cell_type": "code",
      "source": [
        "data = {'Classifier': ['KNN','Linear SVM' , 'DT'],\n",
        "'Accuracy': [0.9153, 0.9672, 0.9734]}\n",
        "df = pd.DataFrame(data)\n",
        "\n",
        "age_plot = sns.barplot(x = 'Classifier', y = 'Accuracy', data = df)\n",
        "\n",
        "plt.setp(age_plot.get_xticklabels(), rotation=90)\n",
        "\n",
        "plt.ylim(0, 1)\n",
        "\n",
        "age_plot.tick_params(labelsize = 14)\n",
        "\n",
        "age_plot.tick_params(length = 0, axis = 'x')\n",
        "age_plot.set_ylabel(\"Temperature Precision Score\", fontsize = 15)\n",
        "age_plot.set_xlabel(\"Classifier\", fontsize = 15)\n",
        "plt.tight_layout()\n",
        "plt.show()"
      ],
      "metadata": {
        "colab": {
          "base_uri": "https://localhost:8080/",
          "height": 487
        },
        "outputId": "4e20da2b-f8ff-474c-e3eb-41f8ca8371e4",
        "id": "ZVdy5gQtajRS"
      },
      "execution_count": null,
      "outputs": [
        {
          "output_type": "display_data",
          "data": {
            "text/plain": [
              "<Figure size 640x480 with 1 Axes>"
            ],
            "image/png": "[encoded data removed]"
          },
          "metadata": {}
        }
      ]
    },
    {
      "cell_type": "code",
      "source": [
        "data = {'Classifier': ['KNN','Linear SVM' , 'DT'],\n",
        "'Accuracy': [0.9055, 0.9506, 0.9867]}\n",
        "df = pd.DataFrame(data)\n",
        "\n",
        "age_plot = sns.barplot(x = 'Classifier', y = 'Accuracy', data = df)\n",
        "\n",
        "plt.setp(age_plot.get_xticklabels(), rotation=90)\n",
        "\n",
        "plt.ylim(0, 1)\n",
        "\n",
        "age_plot.tick_params(labelsize = 14)\n",
        "\n",
        "age_plot.tick_params(length = 0, axis = 'x')\n",
        "age_plot.set_ylabel(\"Temperature Accuracy Score\", fontsize = 15)\n",
        "age_plot.set_xlabel(\"Classifier\", fontsize = 15)\n",
        "plt.tight_layout()\n",
        "plt.show()"
      ],
      "metadata": {
        "colab": {
          "base_uri": "https://localhost:8080/",
          "height": 487
        },
        "outputId": "edc2e2af-387a-4a8f-b47b-708ab654246d",
        "id": "Bjwccat5aJFf"
      },
      "execution_count": null,
      "outputs": [
        {
          "output_type": "display_data",
          "data": {
            "text/plain": [
              "<Figure size 640x480 with 1 Axes>"
            ],
            "image/png": "[encoded data removed]"
          },
          "metadata": {}
        }
      ]
    },
    {
      "cell_type": "code",
      "source": [
        "data = {'Classifier': ['KNN','Linear SVM' , 'DT'],\n",
        "'Accuracy': [0.9869, 0.2087, 0.2150]}\n",
        "df = pd.DataFrame(data)\n",
        "\n",
        "age_plot = sns.barplot(x = 'Classifier', y = 'Accuracy', data = df)\n",
        "\n",
        "plt.setp(age_plot.get_xticklabels(), rotation=90)\n",
        "\n",
        "plt.ylim(0, 1)\n",
        "\n",
        "age_plot.tick_params(labelsize = 14)\n",
        "\n",
        "age_plot.tick_params(length = 0, axis = 'x')\n",
        "age_plot.set_ylabel(\"Heart Beat F1 Score\", fontsize = 15)\n",
        "age_plot.set_xlabel(\"Classifier\", fontsize = 15)\n",
        "plt.tight_layout()\n",
        "plt.show()"
      ],
      "metadata": {
        "colab": {
          "base_uri": "https://localhost:8080/",
          "height": 487
        },
        "id": "vxIC242LUiCb",
        "outputId": "f127046b-0591-4db7-9748-564066982b2a"
      },
      "execution_count": null,
      "outputs": [
        {
          "output_type": "display_data",
          "data": {
            "text/plain": [
              "<Figure size 640x480 with 1 Axes>"
            ],
            "image/png": "[encoded data removed]"
          },
          "metadata": {}
        }
      ]
    },
    {
      "cell_type": "code",
      "source": [
        "data = {'Classifier': ['KNN','Linear SVM' , 'DT'],\n",
        "'Accuracy': [0.9018, 0.3919, 0.3919]}\n",
        "df = pd.DataFrame(data)\n",
        "\n",
        "age_plot = sns.barplot(x = 'Classifier', y = 'Accuracy', data = df)\n",
        "\n",
        "plt.setp(age_plot.get_xticklabels(), rotation=90)\n",
        "\n",
        "plt.ylim(0, 1)\n",
        "\n",
        "age_plot.tick_params(labelsize = 14)\n",
        "\n",
        "age_plot.tick_params(length = 0, axis = 'x')\n",
        "age_plot.set_ylabel(\"SpO2 f1 Score\", fontsize = 15)\n",
        "age_plot.set_xlabel(\"Classifier\", fontsize = 15)\n",
        "plt.tight_layout()\n",
        "plt.show()"
      ],
      "metadata": {
        "colab": {
          "base_uri": "https://localhost:8080/",
          "height": 487
        },
        "id": "cUd1OoZiU5S8",
        "outputId": "889f1be8-b969-4470-bf8f-6b161263db26"
      },
      "execution_count": null,
      "outputs": [
        {
          "output_type": "display_data",
          "data": {
            "text/plain": [
              "<Figure size 640x480 with 1 Axes>"
            ],
            "image/png": "[encoded data removed]"
          },
          "metadata": {}
        }
      ]
    },
    {
      "cell_type": "code",
      "source": [
        "data = {'Classifier': ['KNN','Linear SVM' , 'DT'],\n",
        "'Accuracy': [0.9346, 1, 0.9303]}\n",
        "df = pd.DataFrame(data)\n",
        "\n",
        "age_plot = sns.barplot(x = 'Classifier', y = 'Accuracy', data = df)\n",
        "\n",
        "plt.setp(age_plot.get_xticklabels(), rotation=90)\n",
        "\n",
        "plt.ylim(0, 1)\n",
        "\n",
        "age_plot.tick_params(labelsize = 14)\n",
        "\n",
        "age_plot.tick_params(length = 0, axis = 'x')\n",
        "age_plot.set_ylabel(\"Temperature f1 Score\", fontsize = 15)\n",
        "age_plot.set_xlabel(\"Classifier\", fontsize = 15)\n",
        "plt.tight_layout()\n",
        "plt.show()"
      ],
      "metadata": {
        "colab": {
          "base_uri": "https://localhost:8080/",
          "height": 487
        },
        "id": "WytAYLsTVgCa",
        "outputId": "b5e79bd7-8165-4ce1-dc4e-c3442442dbac"
      },
      "execution_count": null,
      "outputs": [
        {
          "output_type": "display_data",
          "data": {
            "text/plain": [
              "<Figure size 640x480 with 1 Axes>"
            ],
            "image/png": "[encoded data removed]"
          },
          "metadata": {}
        }
      ]
    },
    {
      "cell_type": "code",
      "source": [
        "data = {'Classifier': ['KNN','Linear SVM' , 'DT'],\n",
        "'Accuracy': [0.9878, 0.3334 , 0.3299]}\n",
        "df = pd.DataFrame(data)\n",
        "\n",
        "age_plot = sns.barplot(x = 'Classifier', y = 'Accuracy', data = df)\n",
        "\n",
        "plt.setp(age_plot.get_xticklabels(), rotation=90)\n",
        "\n",
        "plt.ylim(0, 1)\n",
        "\n",
        "age_plot.tick_params(labelsize = 14)\n",
        "\n",
        "age_plot.tick_params(length = 0, axis = 'x')\n",
        "age_plot.set_ylabel(\"Heartbeat Recall Score\", fontsize = 15)\n",
        "age_plot.set_xlabel(\"Classifier\", fontsize = 15)\n",
        "plt.tight_layout()\n",
        "plt.show()"
      ],
      "metadata": {
        "colab": {
          "base_uri": "https://localhost:8080/",
          "height": 487
        },
        "id": "Tz-seolwV5K9",
        "outputId": "d0846772-97fe-4115-8cd0-10f3a466d5f6"
      },
      "execution_count": null,
      "outputs": [
        {
          "output_type": "display_data",
          "data": {
            "text/plain": [
              "<Figure size 640x480 with 1 Axes>"
            ],
            "image/png": "[encoded data removed]"
          },
          "metadata": {}
        }
      ]
    },
    {
      "cell_type": "code",
      "source": [
        "data = {'Classifier': ['KNN','Linear SVM' , 'DT'],\n",
        "'Accuracy': [0.9267, 0.50, 0.5263]}\n",
        "df = pd.DataFrame(data)\n",
        "\n",
        "age_plot = sns.barplot(x = 'Classifier', y = 'Accuracy', data = df)\n",
        "\n",
        "plt.setp(age_plot.get_xticklabels(), rotation=90)\n",
        "\n",
        "plt.ylim(0, 1)\n",
        "\n",
        "age_plot.tick_params(labelsize = 14)\n",
        "\n",
        "age_plot.tick_params(length = 0, axis = 'x')\n",
        "age_plot.set_ylabel(\"SpO2 recall Score\", fontsize = 15)\n",
        "age_plot.set_xlabel(\"Classifier\", fontsize = 15)\n",
        "plt.tight_layout()\n",
        "plt.show()"
      ],
      "metadata": {
        "colab": {
          "base_uri": "https://localhost:8080/",
          "height": 487
        },
        "id": "IOTplltIWLDY",
        "outputId": "a35e57f1-0258-473f-ae8f-50f2e686f91d"
      },
      "execution_count": null,
      "outputs": [
        {
          "output_type": "display_data",
          "data": {
            "text/plain": [
              "<Figure size 640x480 with 1 Axes>"
            ],
            "image/png": "[encoded data removed]"
          },
          "metadata": {}
        }
      ]
    },
    {
      "cell_type": "code",
      "source": [
        "data = {'Classifier': ['KNN','Linear SVM' , 'DT'],\n",
        "'Accuracy': [0.9442, 1, 0.9414]}\n",
        "df = pd.DataFrame(data)\n",
        "\n",
        "age_plot = sns.barplot(x = 'Classifier', y = 'Accuracy', data = df)\n",
        "\n",
        "plt.setp(age_plot.get_xticklabels(), rotation=90)\n",
        "\n",
        "plt.ylim(0, 1)\n",
        "\n",
        "age_plot.tick_params(labelsize = 14)\n",
        "\n",
        "age_plot.tick_params(length = 0, axis = 'x')\n",
        "age_plot.set_ylabel(\"Temperature recall Score\", fontsize = 15)\n",
        "age_plot.set_xlabel(\"Classifier\", fontsize = 15)\n",
        "plt.tight_layout()\n",
        "plt.show()"
      ],
      "metadata": {
        "colab": {
          "base_uri": "https://localhost:8080/",
          "height": 487
        },
        "id": "CeGmFr_xWXkv",
        "outputId": "1faa712e-2037-4917-9fa9-3453ee019c25"
      },
      "execution_count": null,
      "outputs": [
        {
          "output_type": "display_data",
          "data": {
            "text/plain": [
              "<Figure size 640x480 with 1 Axes>"
            ],
            "image/png": "[encoded data removed]"
          },
          "metadata": {}
        }
      ]
    }
  ]
}